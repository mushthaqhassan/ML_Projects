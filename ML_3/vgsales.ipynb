{
 "cells": [
  {
   "cell_type": "markdown",
   "metadata": {},
   "source": [
    "## Import data"
   ]
  },
  {
   "cell_type": "code",
   "execution_count": 41,
   "metadata": {},
   "outputs": [
    {
     "name": "stdout",
     "output_type": "stream",
     "text": [
      "   Rank             Name Platform    Year     Genre   Publisher  NA_Sales  \\\n",
      "0   259        Asteroids     2600  1980.0   Shooter       Atari      4.00   \n",
      "1   545  Missile Command     2600  1980.0   Shooter       Atari      2.56   \n",
      "2  1768          Kaboom!     2600  1980.0      Misc  Activision      1.07   \n",
      "3  1971         Defender     2600  1980.0      Misc       Atari      0.99   \n",
      "4  2671           Boxing     2600  1980.0  Fighting  Activision      0.72   \n",
      "5  4027       Ice Hockey     2600  1980.0    Sports  Activision      0.46   \n",
      "6  5368          Freeway     2600  1980.0    Action  Activision      0.32   \n",
      "7  6319           Bridge     2600  1980.0      Misc  Activision      0.25   \n",
      "8  6898         Checkers     2600  1980.0      Misc       Atari      0.22   \n",
      "9   240         Pitfall!     2600  1981.0  Platform  Activision      4.21   \n",
      "\n",
      "   EU_Sales  JP_Sales  Other_Sales  Global_Sales  \n",
      "0      0.26       0.0         0.05          4.31  \n",
      "1      0.17       0.0         0.03          2.76  \n",
      "2      0.07       0.0         0.01          1.15  \n",
      "3      0.05       0.0         0.01          1.05  \n",
      "4      0.04       0.0         0.01          0.77  \n",
      "5      0.03       0.0         0.01          0.49  \n",
      "6      0.02       0.0         0.00          0.34  \n",
      "7      0.02       0.0         0.00          0.27  \n",
      "8      0.01       0.0         0.00          0.24  \n",
      "9      0.24       0.0         0.05          4.50  \n"
     ]
    }
   ],
   "source": [
    "import pandas as pd\n",
    "import numpy as np\n",
    "import seaborn as sns\n",
    "import matplotlib.pyplot as plt\n",
    "\n",
    "file_path = \"vgsales_new.csv\"\n",
    "df = pd.read_csv(file_path)\n",
    "print(df.head(10))"
   ]
  },
  {
   "cell_type": "markdown",
   "metadata": {},
   "source": [
    "### data cleaning"
   ]
  },
  {
   "cell_type": "code",
   "execution_count": 42,
   "metadata": {},
   "outputs": [
    {
     "data": {
      "text/plain": [
       "Rank              0\n",
       "Name              0\n",
       "Platform          0\n",
       "Year            271\n",
       "Genre             0\n",
       "Publisher        58\n",
       "NA_Sales          0\n",
       "EU_Sales          0\n",
       "JP_Sales          0\n",
       "Other_Sales       0\n",
       "Global_Sales      0\n",
       "dtype: int64"
      ]
     },
     "execution_count": 42,
     "metadata": {},
     "output_type": "execute_result"
    }
   ],
   "source": [
    "df.isna().sum()"
   ]
  },
  {
   "cell_type": "code",
   "execution_count": 43,
   "metadata": {},
   "outputs": [
    {
     "data": {
      "text/plain": [
       "np.int64(0)"
      ]
     },
     "execution_count": 43,
     "metadata": {},
     "output_type": "execute_result"
    }
   ],
   "source": [
    "df.duplicated().sum()"
   ]
  },
  {
   "cell_type": "code",
   "execution_count": 44,
   "metadata": {},
   "outputs": [
    {
     "name": "stdout",
     "output_type": "stream",
     "text": [
      "<class 'pandas.core.frame.DataFrame'>\n",
      "RangeIndex: 16598 entries, 0 to 16597\n",
      "Data columns (total 11 columns):\n",
      " #   Column        Non-Null Count  Dtype  \n",
      "---  ------        --------------  -----  \n",
      " 0   Rank          16598 non-null  int64  \n",
      " 1   Name          16598 non-null  object \n",
      " 2   Platform      16598 non-null  object \n",
      " 3   Year          16327 non-null  float64\n",
      " 4   Genre         16598 non-null  object \n",
      " 5   Publisher     16540 non-null  object \n",
      " 6   NA_Sales      16598 non-null  float64\n",
      " 7   EU_Sales      16598 non-null  float64\n",
      " 8   JP_Sales      16598 non-null  float64\n",
      " 9   Other_Sales   16598 non-null  float64\n",
      " 10  Global_Sales  16598 non-null  float64\n",
      "dtypes: float64(6), int64(1), object(4)\n",
      "memory usage: 1.4+ MB\n"
     ]
    }
   ],
   "source": [
    "df.info()"
   ]
  },
  {
   "cell_type": "code",
   "execution_count": 45,
   "metadata": {},
   "outputs": [
    {
     "data": {
      "text/plain": [
       "Rank            16598\n",
       "Name            11493\n",
       "Platform           31\n",
       "Year               39\n",
       "Genre              12\n",
       "Publisher         578\n",
       "NA_Sales          409\n",
       "EU_Sales          305\n",
       "JP_Sales          244\n",
       "Other_Sales       157\n",
       "Global_Sales      623\n",
       "dtype: int64"
      ]
     },
     "execution_count": 45,
     "metadata": {},
     "output_type": "execute_result"
    }
   ],
   "source": [
    "df.nunique()"
   ]
  },
  {
   "cell_type": "code",
   "execution_count": 46,
   "metadata": {},
   "outputs": [
    {
     "data": {
      "text/plain": [
       "np.int64(0)"
      ]
     },
     "execution_count": 46,
     "metadata": {},
     "output_type": "execute_result"
    }
   ],
   "source": [
    "df.duplicated().sum()"
   ]
  },
  {
   "cell_type": "code",
   "execution_count": 47,
   "metadata": {},
   "outputs": [
    {
     "name": "stdout",
     "output_type": "stream",
     "text": [
      "        Rank                         Name Platform    Year         Genre  \\\n",
      "0        259                    Asteroids     2600  1980.0       Shooter   \n",
      "1        545              Missile Command     2600  1980.0       Shooter   \n",
      "2       1768                      Kaboom!     2600  1980.0          Misc   \n",
      "3       1971                     Defender     2600  1980.0          Misc   \n",
      "4       2671                       Boxing     2600  1980.0      Fighting   \n",
      "...      ...                          ...      ...     ...           ...   \n",
      "16593  16310                Freaky Flyers       GC     NaN        Racing   \n",
      "16594  16330                    Inversion       PC     NaN       Shooter   \n",
      "16595  16369  Hakuouki: Shinsengumi Kitan      PS3     NaN     Adventure   \n",
      "16596  16430                 Virtua Quest       GC     NaN  Role-Playing   \n",
      "16597  16496                   The Smurfs      3DS     NaN        Action   \n",
      "\n",
      "                Publisher  NA_Sales  EU_Sales  JP_Sales  Other_Sales  \\\n",
      "0                   Atari      4.00      0.26       0.0         0.05   \n",
      "1                   Atari      2.56      0.17       0.0         0.03   \n",
      "2              Activision      1.07      0.07       0.0         0.01   \n",
      "3                   Atari      0.99      0.05       0.0         0.01   \n",
      "4              Activision      0.72      0.04       0.0         0.01   \n",
      "...                   ...       ...       ...       ...          ...   \n",
      "16593             Unknown      0.01      0.00       0.0         0.00   \n",
      "16594  Namco Bandai Games      0.01      0.00       0.0         0.00   \n",
      "16595             Unknown      0.01      0.00       0.0         0.00   \n",
      "16596             Unknown      0.01      0.00       0.0         0.00   \n",
      "16597             Unknown      0.00      0.01       0.0         0.00   \n",
      "\n",
      "       Global_Sales  \n",
      "0              4.31  \n",
      "1              2.76  \n",
      "2              1.15  \n",
      "3              1.05  \n",
      "4              0.77  \n",
      "...             ...  \n",
      "16593          0.01  \n",
      "16594          0.01  \n",
      "16595          0.01  \n",
      "16596          0.01  \n",
      "16597          0.01  \n",
      "\n",
      "[16598 rows x 11 columns]\n"
     ]
    }
   ],
   "source": [
    "df= df.drop_duplicates()\n",
    "print(df)"
   ]
  },
  {
   "cell_type": "code",
   "execution_count": 16,
   "metadata": {},
   "outputs": [
    {
     "data": {
      "text/plain": [
       "np.int64(0)"
      ]
     },
     "execution_count": 16,
     "metadata": {},
     "output_type": "execute_result"
    }
   ],
   "source": [
    "df.duplicated().sum()"
   ]
  },
  {
   "cell_type": "code",
   "execution_count": 48,
   "metadata": {},
   "outputs": [
    {
     "name": "stdout",
     "output_type": "stream",
     "text": [
      "   Rank             Name Platform    Year     Genre   Publisher  NA_Sales  \\\n",
      "0   259        Asteroids     2600  1980.0   Shooter       Atari      4.00   \n",
      "1   545  Missile Command     2600  1980.0   Shooter       Atari      2.56   \n",
      "2  1768          Kaboom!     2600  1980.0      Misc  Activision      1.07   \n",
      "3  1971         Defender     2600  1980.0      Misc       Atari      0.99   \n",
      "4  2671           Boxing     2600  1980.0  Fighting  Activision      0.72   \n",
      "5  4027       Ice Hockey     2600  1980.0    Sports  Activision      0.46   \n",
      "6  5368          Freeway     2600  1980.0    Action  Activision      0.32   \n",
      "7  6319           Bridge     2600  1980.0      Misc  Activision      0.25   \n",
      "8  6898         Checkers     2600  1980.0      Misc       Atari      0.22   \n",
      "9   240         Pitfall!     2600  1981.0  Platform  Activision      4.21   \n",
      "\n",
      "   EU_Sales  JP_Sales  Other_Sales  Global_Sales  \n",
      "0      0.26       0.0         0.05          4.31  \n",
      "1      0.17       0.0         0.03          2.76  \n",
      "2      0.07       0.0         0.01          1.15  \n",
      "3      0.05       0.0         0.01          1.05  \n",
      "4      0.04       0.0         0.01          0.77  \n",
      "5      0.03       0.0         0.01          0.49  \n",
      "6      0.02       0.0         0.00          0.34  \n",
      "7      0.02       0.0         0.00          0.27  \n",
      "8      0.01       0.0         0.00          0.24  \n",
      "9      0.24       0.0         0.05          4.50  \n"
     ]
    }
   ],
   "source": [
    "print(df.head(10))"
   ]
  },
  {
   "cell_type": "code",
   "execution_count": 49,
   "metadata": {},
   "outputs": [
    {
     "data": {
      "text/html": [
       "<div>\n",
       "<style scoped>\n",
       "    .dataframe tbody tr th:only-of-type {\n",
       "        vertical-align: middle;\n",
       "    }\n",
       "\n",
       "    .dataframe tbody tr th {\n",
       "        vertical-align: top;\n",
       "    }\n",
       "\n",
       "    .dataframe thead th {\n",
       "        text-align: right;\n",
       "    }\n",
       "</style>\n",
       "<table border=\"1\" class=\"dataframe\">\n",
       "  <thead>\n",
       "    <tr style=\"text-align: right;\">\n",
       "      <th></th>\n",
       "      <th>Rank</th>\n",
       "      <th>Name</th>\n",
       "      <th>Platform</th>\n",
       "      <th>Year</th>\n",
       "      <th>Genre</th>\n",
       "      <th>Publisher</th>\n",
       "      <th>NA_Sales</th>\n",
       "      <th>EU_Sales</th>\n",
       "      <th>JP_Sales</th>\n",
       "      <th>Other_Sales</th>\n",
       "      <th>Global_Sales</th>\n",
       "    </tr>\n",
       "  </thead>\n",
       "  <tbody>\n",
       "    <tr>\n",
       "      <th>0</th>\n",
       "      <td>259</td>\n",
       "      <td>Asteroids</td>\n",
       "      <td>2600</td>\n",
       "      <td>1980.0</td>\n",
       "      <td>Shooter</td>\n",
       "      <td>Atari</td>\n",
       "      <td>4.00</td>\n",
       "      <td>0.26</td>\n",
       "      <td>0.0</td>\n",
       "      <td>0.05</td>\n",
       "      <td>4.31</td>\n",
       "    </tr>\n",
       "    <tr>\n",
       "      <th>1</th>\n",
       "      <td>545</td>\n",
       "      <td>Missile Command</td>\n",
       "      <td>2600</td>\n",
       "      <td>1980.0</td>\n",
       "      <td>Shooter</td>\n",
       "      <td>Atari</td>\n",
       "      <td>2.56</td>\n",
       "      <td>0.17</td>\n",
       "      <td>0.0</td>\n",
       "      <td>0.03</td>\n",
       "      <td>2.76</td>\n",
       "    </tr>\n",
       "    <tr>\n",
       "      <th>2</th>\n",
       "      <td>1768</td>\n",
       "      <td>Kaboom!</td>\n",
       "      <td>2600</td>\n",
       "      <td>1980.0</td>\n",
       "      <td>Misc</td>\n",
       "      <td>Activision</td>\n",
       "      <td>1.07</td>\n",
       "      <td>0.07</td>\n",
       "      <td>0.0</td>\n",
       "      <td>0.01</td>\n",
       "      <td>1.15</td>\n",
       "    </tr>\n",
       "    <tr>\n",
       "      <th>3</th>\n",
       "      <td>1971</td>\n",
       "      <td>Defender</td>\n",
       "      <td>2600</td>\n",
       "      <td>1980.0</td>\n",
       "      <td>Misc</td>\n",
       "      <td>Atari</td>\n",
       "      <td>0.99</td>\n",
       "      <td>0.05</td>\n",
       "      <td>0.0</td>\n",
       "      <td>0.01</td>\n",
       "      <td>1.05</td>\n",
       "    </tr>\n",
       "    <tr>\n",
       "      <th>4</th>\n",
       "      <td>2671</td>\n",
       "      <td>Boxing</td>\n",
       "      <td>2600</td>\n",
       "      <td>1980.0</td>\n",
       "      <td>Fighting</td>\n",
       "      <td>Activision</td>\n",
       "      <td>0.72</td>\n",
       "      <td>0.04</td>\n",
       "      <td>0.0</td>\n",
       "      <td>0.01</td>\n",
       "      <td>0.77</td>\n",
       "    </tr>\n",
       "    <tr>\n",
       "      <th>5</th>\n",
       "      <td>4027</td>\n",
       "      <td>Ice Hockey</td>\n",
       "      <td>2600</td>\n",
       "      <td>1980.0</td>\n",
       "      <td>Sports</td>\n",
       "      <td>Activision</td>\n",
       "      <td>0.46</td>\n",
       "      <td>0.03</td>\n",
       "      <td>0.0</td>\n",
       "      <td>0.01</td>\n",
       "      <td>0.49</td>\n",
       "    </tr>\n",
       "    <tr>\n",
       "      <th>6</th>\n",
       "      <td>5368</td>\n",
       "      <td>Freeway</td>\n",
       "      <td>2600</td>\n",
       "      <td>1980.0</td>\n",
       "      <td>Action</td>\n",
       "      <td>Activision</td>\n",
       "      <td>0.32</td>\n",
       "      <td>0.02</td>\n",
       "      <td>0.0</td>\n",
       "      <td>0.00</td>\n",
       "      <td>0.34</td>\n",
       "    </tr>\n",
       "    <tr>\n",
       "      <th>7</th>\n",
       "      <td>6319</td>\n",
       "      <td>Bridge</td>\n",
       "      <td>2600</td>\n",
       "      <td>1980.0</td>\n",
       "      <td>Misc</td>\n",
       "      <td>Activision</td>\n",
       "      <td>0.25</td>\n",
       "      <td>0.02</td>\n",
       "      <td>0.0</td>\n",
       "      <td>0.00</td>\n",
       "      <td>0.27</td>\n",
       "    </tr>\n",
       "    <tr>\n",
       "      <th>8</th>\n",
       "      <td>6898</td>\n",
       "      <td>Checkers</td>\n",
       "      <td>2600</td>\n",
       "      <td>1980.0</td>\n",
       "      <td>Misc</td>\n",
       "      <td>Atari</td>\n",
       "      <td>0.22</td>\n",
       "      <td>0.01</td>\n",
       "      <td>0.0</td>\n",
       "      <td>0.00</td>\n",
       "      <td>0.24</td>\n",
       "    </tr>\n",
       "    <tr>\n",
       "      <th>9</th>\n",
       "      <td>240</td>\n",
       "      <td>Pitfall!</td>\n",
       "      <td>2600</td>\n",
       "      <td>1981.0</td>\n",
       "      <td>Platform</td>\n",
       "      <td>Activision</td>\n",
       "      <td>4.21</td>\n",
       "      <td>0.24</td>\n",
       "      <td>0.0</td>\n",
       "      <td>0.05</td>\n",
       "      <td>4.50</td>\n",
       "    </tr>\n",
       "  </tbody>\n",
       "</table>\n",
       "</div>"
      ],
      "text/plain": [
       "   Rank             Name Platform    Year     Genre   Publisher  NA_Sales  \\\n",
       "0   259        Asteroids     2600  1980.0   Shooter       Atari      4.00   \n",
       "1   545  Missile Command     2600  1980.0   Shooter       Atari      2.56   \n",
       "2  1768          Kaboom!     2600  1980.0      Misc  Activision      1.07   \n",
       "3  1971         Defender     2600  1980.0      Misc       Atari      0.99   \n",
       "4  2671           Boxing     2600  1980.0  Fighting  Activision      0.72   \n",
       "5  4027       Ice Hockey     2600  1980.0    Sports  Activision      0.46   \n",
       "6  5368          Freeway     2600  1980.0    Action  Activision      0.32   \n",
       "7  6319           Bridge     2600  1980.0      Misc  Activision      0.25   \n",
       "8  6898         Checkers     2600  1980.0      Misc       Atari      0.22   \n",
       "9   240         Pitfall!     2600  1981.0  Platform  Activision      4.21   \n",
       "\n",
       "   EU_Sales  JP_Sales  Other_Sales  Global_Sales  \n",
       "0      0.26       0.0         0.05          4.31  \n",
       "1      0.17       0.0         0.03          2.76  \n",
       "2      0.07       0.0         0.01          1.15  \n",
       "3      0.05       0.0         0.01          1.05  \n",
       "4      0.04       0.0         0.01          0.77  \n",
       "5      0.03       0.0         0.01          0.49  \n",
       "6      0.02       0.0         0.00          0.34  \n",
       "7      0.02       0.0         0.00          0.27  \n",
       "8      0.01       0.0         0.00          0.24  \n",
       "9      0.24       0.0         0.05          4.50  "
      ]
     },
     "execution_count": 49,
     "metadata": {},
     "output_type": "execute_result"
    }
   ],
   "source": [
    "df.head(10)"
   ]
  },
  {
   "cell_type": "markdown",
   "metadata": {},
   "source": [
    "### check correlation and plot heatmap"
   ]
  },
  {
   "cell_type": "code",
   "execution_count": 50,
   "metadata": {},
   "outputs": [
    {
     "data": {
      "text/plain": [
       "<Axes: >"
      ]
     },
     "execution_count": 50,
     "metadata": {},
     "output_type": "execute_result"
    },
    {
     "data": {
      "image/png": "[encoded data removed]",
      "text/plain": [
       "<Figure size 640x480 with 2 Axes>"
      ]
     },
     "metadata": {},
     "output_type": "display_data"
    }
   ],
   "source": [
    "correlation=df.corr(numeric_only=True)\n",
    "sns.heatmap(correlation,annot=True)"
   ]
  },
  {
   "cell_type": "markdown",
   "metadata": {},
   "source": [
    "### separate dependent and independent variables"
   ]
  },
  {
   "cell_type": "code",
   "execution_count": 68,
   "metadata": {},
   "outputs": [],
   "source": [
    "X = df.drop(columns=['Global_Sales', 'Rank'])\n",
    "y = df['Global_Sales']"
   ]
  },
  {
   "cell_type": "markdown",
   "metadata": {},
   "source": [
    "### split the dataset into training and testing"
   ]
  },
  {
   "cell_type": "code",
   "execution_count": 66,
   "metadata": {},
   "outputs": [],
   "source": [
    "from sklearn.compose import ColumnTransformer\n",
    "from sklearn.preprocessing import OneHotEncoder\n",
    "from sklearn.model_selection import train_test_split\n",
    "from sklearn.linear_model import LinearRegression\n",
    "from sklearn.metrics import r2_score\n",
    "from sklearn.ensemble import GradientBoostingRegressor\n",
    "from xgboost import XGBRegressor\n",
    "from sklearn import metrics\n",
    "X_train, X_test, y_train, y_test = train_test_split(X, y, test_size=0.2, random_state=0)"
   ]
  },
  {
   "cell_type": "markdown",
   "metadata": {},
   "source": [
    "### build the linear regression model"
   ]
  },
  {
   "cell_type": "code",
   "execution_count": 69,
   "metadata": {},
   "outputs": [],
   "source": [
    "from sklearn.model_selection import train_test_split\n",
    "from sklearn.preprocessing import LabelEncoder\n",
    "\n",
    "df = df.dropna()\n",
    "\n",
    "categorical_columns = ['Name', 'Platform', 'Genre', 'Publisher']\n",
    "label_encoders = {col: LabelEncoder() for col in categorical_columns}\n",
    "for col in categorical_columns:\n",
    "    df[col] = label_encoders[col].fit_transform(df[col])\n"
   ]
  },
  {
   "cell_type": "code",
   "execution_count": null,
   "metadata": {},
   "outputs": [
    {
     "data": {
      "text/plain": [
       "(np.float64(0.005376409631842218),\n",
       " 0.999985156442577,\n",
       " np.float64(0.4133319570126111),\n",
       " 0.9122693666557088)"
      ]
     },
     "execution_count": 77,
     "metadata": {},
     "output_type": "execute_result"
    }
   ],
   "source": [
    "from sklearn.metrics import mean_squared_error, r2_score\n",
    "import numpy as np\n",
    "\n",
    "linear_mse = mean_squared_error(y_test, linear_preds)\n",
    "xgb_mse = mean_squared_error(y_test, xgb_preds)\n",
    "\n",
    "linear_rmse = np.sqrt(linear_mse)\n",
    "xgb_rmse = np.sqrt(xgb_mse)\n",
    "\n",
    "linear_r2 = r2_score(y_test, linear_preds)\n",
    "xgb_r2 = r2_score(y_test, xgb_preds)\n",
    "\n",
    "linear_rmse, linear_r2, xgb_rmse, xgb_r2\n",
    "\n"
   ]
  },
  {
   "cell_type": "markdown",
   "metadata": {},
   "source": [
    "## Evaluating"
   ]
  },
  {
   "cell_type": "code",
   "execution_count": 80,
   "metadata": {},
   "outputs": [
    {
     "name": "stdout",
     "output_type": "stream",
     "text": [
      "0.999985156442577 0.9122693666557088\n"
     ]
    }
   ],
   "source": [
    "linear_r2 = r2_score(y_test, linear_preds)\n",
    "xgb_r2 = r2_score(y_test, xgb_preds)\n",
    "print(linear_r2,xgb_r2)"
   ]
  }
 ],
 "metadata": {
  "kernelspec": {
   "display_name": "Python 3",
   "language": "python",
   "name": "python3"
  },
  "language_info": {
   "codemirror_mode": {
    "name": "ipython",
    "version": 3
   },
   "file_extension": ".py",
   "mimetype": "text/x-python",
   "name": "python",
   "nbconvert_exporter": "python",
   "pygments_lexer": "ipython3",
   "version": "undefined.undefined.undefined"
  }
 },
 "nbformat": 4,
 "nbformat_minor": 2
}
